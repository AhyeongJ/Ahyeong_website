{
  "cells": [
    {
      "cell_type": "markdown",
      "metadata": {},
      "source": [
        "------------------------------------------------------------------------\n",
        "\n",
        "title: \"EasyPython Practice Ch7. Plotly를 이용한 인터렉티브 그래프\" author: Ahyeong Jeong date: \"2024-07-17\" categories: \\[EasyPython\\]\n",
        "\n",
        "## Plotly를 이용한 인터렉티브 그래프\n",
        "\n",
        "**필요한 패키지 불러오기**\n"
      ],
      "id": "10eda2bb"
    },
    {
      "cell_type": "code",
      "metadata": {},
      "source": [
        "import pandas as pd\n",
        "import plotly.express as px"
      ],
      "id": "180ae6f4",
      "execution_count": null,
      "outputs": []
    },
    {
      "cell_type": "markdown",
      "metadata": {},
      "source": [
        "**데이터 불러오기**\n"
      ],
      "id": "70a1515c"
    },
    {
      "cell_type": "code",
      "metadata": {},
      "source": [
        "mpg = pd.read_csv('C:/Users/USER/Documents/LS 빅데이터 스쿨/myportfolio/data/mpg.csv')"
      ],
      "id": "238a96aa",
      "execution_count": null,
      "outputs": []
    },
    {
      "cell_type": "markdown",
      "metadata": {},
      "source": [
        "**1. 산점도 만들기: `px.scatter`**\n"
      ],
      "id": "0bb904dd"
    },
    {
      "cell_type": "code",
      "metadata": {},
      "source": [
        "px.scatter(data_frame = mpg, x = 'cty', y = 'hwy', color = 'drv')"
      ],
      "id": "c887ef85",
      "execution_count": null,
      "outputs": []
    },
    {
      "cell_type": "markdown",
      "metadata": {},
      "source": [
        "**인터렉티브 기능 활용하기**\n",
        "\n",
        "-   `plotly`로 만든 그래프는 마우스 움직임에 반응한다.\n",
        "-   산점도의 표식에 마우스 커서를 올리면 값이 나타난다.\n",
        "-   마우스로 드래그 하면 x,y축의 범위가 바뀌고, 더블클릭하면 원래대로 되돌아온다.\n",
        "-   범례항목을 클릭하면 특정 범주의 표식을 켜거나 끌 수 있다.\n",
        "\n",
        "**2. 막대 그래프 만들기: `px.bar()`**\n"
      ],
      "id": "d1a9612c"
    },
    {
      "cell_type": "code",
      "metadata": {},
      "source": [
        "# 자동차 종류별 빈도 구하기\n",
        "df = mpg.groupby('category', as_index = False) \\\n",
        "        .agg(n = ('category', 'count'))\n",
        "df"
      ],
      "id": "36c145e3",
      "execution_count": null,
      "outputs": []
    },
    {
      "cell_type": "code",
      "metadata": {},
      "source": [
        "# 막대그래프 만들기\n",
        "px.bar(data_frame = df, x = 'category', y = 'n', color = 'category')"
      ],
      "id": "e3a91889",
      "execution_count": null,
      "outputs": []
    },
    {
      "cell_type": "markdown",
      "metadata": {},
      "source": [
        "**3. 선그래프 만들기: `px.line()`**\n"
      ],
      "id": "72a9bf27"
    },
    {
      "cell_type": "code",
      "metadata": {},
      "source": [
        "# economics 불러오기\n",
        "economics = pd.read_csv(\"C:/Users/USER/Documents/LS 빅데이터 스쿨/myportfolio/data/economics.csv\")"
      ],
      "id": "b2450e23",
      "execution_count": null,
      "outputs": []
    },
    {
      "cell_type": "markdown",
      "metadata": {},
      "source": [
        "일자별 저축률을 선 그래프로 표현하자\n"
      ],
      "id": "4eb49801"
    },
    {
      "cell_type": "code",
      "metadata": {},
      "source": [
        "# 선 그래프 만들기\n",
        "px.line(data_frame = economics, x = 'date', y = 'psavert')"
      ],
      "id": "ac5c933d",
      "execution_count": null,
      "outputs": []
    },
    {
      "cell_type": "markdown",
      "metadata": {},
      "source": [
        "**4. 상자 그림 만들기: px.bar()**\n"
      ],
      "id": "75bdf904"
    },
    {
      "cell_type": "code",
      "metadata": {},
      "source": [
        "px.box(data_frame = mpg, x = 'drv', y = 'hwy', color = 'drv')"
      ],
      "id": "c7cf5b9f",
      "execution_count": null,
      "outputs": []
    },
    {
      "cell_type": "markdown",
      "metadata": {},
      "source": [
        "**plotly 활용하기** \\* 그래프 크기 조절하기 `width`: 가로크기, `height`: 세로크기\n"
      ],
      "id": "e3c2c3a3"
    },
    {
      "cell_type": "code",
      "metadata": {},
      "source": [
        "px.scatter(data_frame = mpg, x = 'hwy', y = 'cty', color = 'drv', width = 600, height = 400)"
      ],
      "id": "a54033d4",
      "execution_count": null,
      "outputs": []
    }
  ],
  "metadata": {
    "kernelspec": {
      "name": "python3",
      "language": "python",
      "display_name": "Python 3 (ipykernel)"
    }
  },
  "nbformat": 4,
  "nbformat_minor": 5
}