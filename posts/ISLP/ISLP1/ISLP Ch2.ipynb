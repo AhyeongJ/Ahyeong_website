{
  "cells": [
    {
      "cell_type": "raw",
      "metadata": {},
      "source": [
        "---\n",
        "title: \"EasyPython Practice Ch8\"\n",
        "author: Ahyeong Jeong\n",
        "date: \"2024-07-25\"\n",
        "categories: [ISLP]\n",
        "---"
      ],
      "id": "9fcba0fb"
    },
    {
      "cell_type": "markdown",
      "metadata": {},
      "source": [
        "Concatenation "
      ],
      "id": "c8ed008a"
    },
    {
      "cell_type": "code",
      "metadata": {},
      "source": [
        "x = [3, 4, 5]\n",
        "y = [4, 9, 7]\n",
        "x + y"
      ],
      "id": "1e3c0f2f",
      "execution_count": null,
      "outputs": []
    },
    {
      "cell_type": "code",
      "metadata": {},
      "source": [
        "import numpy as np\n",
        "x = np.array([3, 4, 5])\n",
        "y = np.array([4, 9, 7])\n",
        "x + y"
      ],
      "id": "6b44da78",
      "execution_count": null,
      "outputs": []
    },
    {
      "cell_type": "code",
      "metadata": {},
      "source": [
        "x = np.array([[1, 2], [3, 4]])\n",
        "x\n",
        "x.ndim\n",
        "x.dtype"
      ],
      "id": "d1f02733",
      "execution_count": null,
      "outputs": []
    },
    {
      "cell_type": "code",
      "metadata": {},
      "source": [
        "np.array([[1, 2], [3.0, 4]]).dtype\n",
        " #dtype float로 설정 \n",
        "np.array([[1, 2], [3, 4]], float).dtype\n",
        "x.shape"
      ],
      "id": "d6f81145",
      "execution_count": null,
      "outputs": []
    },
    {
      "cell_type": "code",
      "metadata": {},
      "source": [
        "x = np.array([1, 2, 3, 4])\n",
        "x.sum()\n",
        "x = np.array([1, 2, 3, 4])\n",
        "np.sum(x)"
      ],
      "id": "fbd6d436",
      "execution_count": null,
      "outputs": []
    },
    {
      "cell_type": "code",
      "metadata": {},
      "source": [
        "x = np.array([1, 2, 3, 4, 5, 6])\n",
        "print('beginning x:\\n', x)\n",
        "x_reshape = x.reshape((2, 3))\n",
        "print('reshaped x:\\n', x_reshape)\n",
        "x_reshape[0, 0]\n",
        "x_reshape[1, 2]"
      ],
      "id": "25f427f3",
      "execution_count": null,
      "outputs": []
    },
    {
      "cell_type": "code",
      "metadata": {},
      "source": [
        "print('x before we modify x_reshape :\\n', x)\n",
        "print('x_reshpae before we modify x_reshape:\\n', x_reshape)\n",
        "x_reshape[0, 0] = 5\n",
        "print('x_reshape after we modify its top left element:\\n', x_reshape)\n",
        "print('x after we modify top left element of x_reshape:\\n', x)"
      ],
      "id": "52840337",
      "execution_count": null,
      "outputs": []
    },
    {
      "cell_type": "markdown",
      "metadata": {},
      "source": [
        "(a)"
      ],
      "id": "87ee136e"
    },
    {
      "cell_type": "code",
      "metadata": {},
      "source": [
        "import pandas as pd \n",
        "college = pd.read_csv(\"College.csv\")"
      ],
      "id": "d9571391",
      "execution_count": null,
      "outputs": []
    },
    {
      "cell_type": "markdown",
      "metadata": {},
      "source": [
        "(b)"
      ],
      "id": "db9092de"
    },
    {
      "cell_type": "code",
      "metadata": {},
      "source": [
        "college2 = pd.read_csv('College.csv', index_col = 0)\n",
        "college3 = college.rename({'Unnamed: 0': 'College'},\n",
        "                            axis = 1 )\n",
        "college3 = college3.set_index('college')"
      ],
      "id": "35d80bb5",
      "execution_count": null,
      "outputs": []
    }
  ],
  "metadata": {
    "kernelspec": {
      "name": "python3",
      "language": "python",
      "display_name": "Python 3 (ipykernel)"
    }
  },
  "nbformat": 4,
  "nbformat_minor": 5
}